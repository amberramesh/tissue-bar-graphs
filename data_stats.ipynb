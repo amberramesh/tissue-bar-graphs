{
 "cells": [
  {
   "cell_type": "code",
   "execution_count": 17,
   "metadata": {},
   "outputs": [],
   "source": [
    "import os\n",
    "import pandas as pd"
   ]
  },
  {
   "cell_type": "code",
   "execution_count": 29,
   "metadata": {},
   "outputs": [],
   "source": [
    "csv_dir = \"csv\"\n",
    "folders = [folder for folder in os.listdir(csv_dir) if \"HuBMAP\" in folder or \"GTEx\" in folder or \"CxG\" in folder]"
   ]
  },
  {
   "cell_type": "markdown",
   "metadata": {},
   "source": [
    "number of datasets"
   ]
  },
  {
   "cell_type": "code",
   "execution_count": 30,
   "metadata": {},
   "outputs": [
    {
     "name": "stdout",
     "output_type": "stream",
     "text": [
      "3366\n"
     ]
    }
   ],
   "source": [
    "count = 0\n",
    "for folder in folders:\n",
    "    if folder != \".DS_Store\":\n",
    "        count += len(os.listdir(os.path.join(csv_dir,folder)))\n",
    "print(count)"
   ]
  },
  {
   "cell_type": "markdown",
   "metadata": {},
   "source": [
    "number of organs"
   ]
  },
  {
   "cell_type": "code",
   "execution_count": 31,
   "metadata": {},
   "outputs": [
    {
     "name": "stdout",
     "output_type": "stream",
     "text": [
      "52\n"
     ]
    }
   ],
   "source": [
    "organs = []\n",
    "for folder in folders:\n",
    "    if folder != \".DS_Store\":\n",
    "        organs.append(\" \".join(folder.split(\"_\")[:-2]))\n",
    "print(len(set(organs)))"
   ]
  },
  {
   "cell_type": "markdown",
   "metadata": {},
   "source": [
    "number of cell types"
   ]
  },
  {
   "cell_type": "code",
   "execution_count": 32,
   "metadata": {},
   "outputs": [
    {
     "name": "stdout",
     "output_type": "stream",
     "text": [
      "643\n"
     ]
    }
   ],
   "source": [
    "cell_types = []\n",
    "for folder in folders:\n",
    "    if folder != \".DS_Store\":\n",
    "        for csv_file in os.listdir(os.path.join(csv_dir,folder)):\n",
    "            data = pd.read_csv(os.path.join(csv_dir,folder,csv_file))\n",
    "            cell_types.extend(data['cell_type'].unique())\n",
    "print(len(set(cell_types)))"
   ]
  }
 ],
 "metadata": {
  "interpreter": {
   "hash": "aee8b7b246df8f9039afb4144a1f6fd8d2ca17a180786b69acc140d282b71a49"
  },
  "kernelspec": {
   "display_name": "Python 3.11.0 64-bit",
   "language": "python",
   "name": "python3"
  },
  "language_info": {
   "codemirror_mode": {
    "name": "ipython",
    "version": 3
   },
   "file_extension": ".py",
   "mimetype": "text/x-python",
   "name": "python",
   "nbconvert_exporter": "python",
   "pygments_lexer": "ipython3",
   "version": "3.11.0"
  },
  "orig_nbformat": 4
 },
 "nbformat": 4,
 "nbformat_minor": 2
}
