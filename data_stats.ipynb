{
 "cells": [
  {
   "cell_type": "code",
   "execution_count": 2,
   "metadata": {},
   "outputs": [],
   "source": [
    "import os\n",
    "import pandas as pd"
   ]
  },
  {
   "cell_type": "code",
   "execution_count": 3,
   "metadata": {},
   "outputs": [],
   "source": [
    "csv_dir = \"csv\"\n",
    "folders = [folder for folder in os.listdir(csv_dir) if \"HuBMAP\" in folder or \"GTEx\" in folder or \"CxG\" in folder]"
   ]
  },
  {
   "cell_type": "markdown",
   "metadata": {},
   "source": [
    "number of datasets"
   ]
  },
  {
   "cell_type": "code",
   "execution_count": 3,
   "metadata": {},
   "outputs": [
    {
     "name": "stdout",
     "output_type": "stream",
     "text": [
      "5391\n"
     ]
    }
   ],
   "source": [
    "count = 0\n",
    "for folder in folders:\n",
    "    if folder != \".DS_Store\":\n",
    "        count += len(os.listdir(os.path.join(csv_dir,folder)))\n",
    "print(count)"
   ]
  },
  {
   "cell_type": "markdown",
   "metadata": {},
   "source": [
    "number of organs"
   ]
  },
  {
   "cell_type": "code",
   "execution_count": 4,
   "metadata": {},
   "outputs": [
    {
     "name": "stdout",
     "output_type": "stream",
     "text": [
      "52\n"
     ]
    }
   ],
   "source": [
    "organs = []\n",
    "for folder in folders:\n",
    "    if folder != \".DS_Store\":\n",
    "        organs.append(\" \".join(folder.split(\"_\")[:-2]))\n",
    "print(len(set(organs)))"
   ]
  },
  {
   "cell_type": "markdown",
   "metadata": {},
   "source": [
    "number of cell types"
   ]
  },
  {
   "cell_type": "code",
   "execution_count": 5,
   "metadata": {},
   "outputs": [
    {
     "name": "stdout",
     "output_type": "stream",
     "text": [
      "677\n"
     ]
    }
   ],
   "source": [
    "cell_types = []\n",
    "for folder in folders:\n",
    "    if folder != \".DS_Store\":\n",
    "        for csv_file in os.listdir(os.path.join(csv_dir,folder)):\n",
    "            data = pd.read_csv(os.path.join(csv_dir,folder,csv_file))\n",
    "            cell_types.extend(data['cell_type'].unique())\n",
    "print(len(set(cell_types)))"
   ]
  },
  {
   "cell_type": "markdown",
   "metadata": {},
   "source": [
    "number of datasets from each source"
   ]
  },
  {
   "cell_type": "code",
   "execution_count": 4,
   "metadata": {},
   "outputs": [
    {
     "name": "stdout",
     "output_type": "stream",
     "text": [
      "CxG: 5219\n",
      "GTEx: 25\n",
      "HuBMAP: 147\n"
     ]
    }
   ],
   "source": [
    "def count_datasets(folders):\n",
    "    count = 0\n",
    "    for folder in folders:\n",
    "        if folder != \".DS_Store\":\n",
    "            count += len(os.listdir(os.path.join(csv_dir,folder)))\n",
    "    return count\n",
    "\n",
    "for source in ['CxG','GTEx','HuBMAP']:\n",
    "    folders = [folder for folder in os.listdir(csv_dir) if source in folder]\n",
    "    print(\"{0}: {1}\".format(source, count_datasets(folders)))"
   ]
  },
  {
   "cell_type": "markdown",
   "metadata": {},
   "source": [
    "possible duplicates between sources"
   ]
  },
  {
   "cell_type": "code",
   "execution_count": 16,
   "metadata": {},
   "outputs": [],
   "source": [
    "def get_all_dataset_info(main_dir):\n",
    "        info = []\n",
    "        for folder in os.listdir(main_dir):\n",
    "            if folder != \".DS_Store\":\n",
    "                for file in os.listdir(os.path.join(main_dir,folder)):\n",
    "                    data = pd.read_csv(os.path.join(main_dir,folder,file))\n",
    "                    info.append([os.path.join(main_dir,folder,file),data['count'].sum()])\n",
    "        return info\n",
    "\n",
    "dataset_info = pd.DataFrame(get_all_dataset_info(csv_dir),columns=['dataset_path','cell_counts'])"
   ]
  },
  {
   "cell_type": "code",
   "execution_count": 17,
   "metadata": {},
   "outputs": [
    {
     "data": {
      "text/html": [
       "<div>\n",
       "<style scoped>\n",
       "    .dataframe tbody tr th:only-of-type {\n",
       "        vertical-align: middle;\n",
       "    }\n",
       "\n",
       "    .dataframe tbody tr th {\n",
       "        vertical-align: top;\n",
       "    }\n",
       "\n",
       "    .dataframe thead th {\n",
       "        text-align: right;\n",
       "    }\n",
       "</style>\n",
       "<table border=\"1\" class=\"dataframe\">\n",
       "  <thead>\n",
       "    <tr style=\"text-align: right;\">\n",
       "      <th></th>\n",
       "      <th>dataset_path</th>\n",
       "      <th>cell_counts</th>\n",
       "    </tr>\n",
       "  </thead>\n",
       "  <tbody>\n",
       "    <tr>\n",
       "      <th>0</th>\n",
       "      <td>csv/Small_Intestine_CxG_Portal/cf18e897-e8b2-4...</td>\n",
       "      <td>1101</td>\n",
       "    </tr>\n",
       "    <tr>\n",
       "      <th>1</th>\n",
       "      <td>csv/Small_Intestine_CxG_Portal/e09e81de-a537-4...</td>\n",
       "      <td>6294</td>\n",
       "    </tr>\n",
       "    <tr>\n",
       "      <th>2</th>\n",
       "      <td>csv/Small_Intestine_CxG_Portal/7ae94573-bd9b-4...</td>\n",
       "      <td>1933</td>\n",
       "    </tr>\n",
       "    <tr>\n",
       "      <th>3</th>\n",
       "      <td>csv/Small_Intestine_CxG_Portal/2993616d-12b8-4...</td>\n",
       "      <td>1199</td>\n",
       "    </tr>\n",
       "    <tr>\n",
       "      <th>4</th>\n",
       "      <td>csv/Small_Intestine_CxG_Portal/771fe5d8-a50d-4...</td>\n",
       "      <td>128</td>\n",
       "    </tr>\n",
       "    <tr>\n",
       "      <th>...</th>\n",
       "      <td>...</td>\n",
       "      <td>...</td>\n",
       "    </tr>\n",
       "    <tr>\n",
       "      <th>5771</th>\n",
       "      <td>csv/Parotid_Gland_CxG_Portal/4676160f-b0f6-4de...</td>\n",
       "      <td>118</td>\n",
       "    </tr>\n",
       "    <tr>\n",
       "      <th>5772</th>\n",
       "      <td>csv/Parotid_Gland_CxG_Portal/bd13c169-af97-4d8...</td>\n",
       "      <td>9437</td>\n",
       "    </tr>\n",
       "    <tr>\n",
       "      <th>5773</th>\n",
       "      <td>csv/Parotid_Gland_CxG_Portal/13c0b826-87e9-4c8...</td>\n",
       "      <td>1270</td>\n",
       "    </tr>\n",
       "    <tr>\n",
       "      <th>5774</th>\n",
       "      <td>csv/Parotid_Gland_CxG_Portal/7995d395-6682-4f7...</td>\n",
       "      <td>3628</td>\n",
       "    </tr>\n",
       "    <tr>\n",
       "      <th>5775</th>\n",
       "      <td>csv/Parotid_Gland_CxG_Portal/7995d395-6682-4f7...</td>\n",
       "      <td>6065</td>\n",
       "    </tr>\n",
       "  </tbody>\n",
       "</table>\n",
       "<p>5776 rows × 2 columns</p>\n",
       "</div>"
      ],
      "text/plain": [
       "                                           dataset_path  cell_counts\n",
       "0     csv/Small_Intestine_CxG_Portal/cf18e897-e8b2-4...         1101\n",
       "1     csv/Small_Intestine_CxG_Portal/e09e81de-a537-4...         6294\n",
       "2     csv/Small_Intestine_CxG_Portal/7ae94573-bd9b-4...         1933\n",
       "3     csv/Small_Intestine_CxG_Portal/2993616d-12b8-4...         1199\n",
       "4     csv/Small_Intestine_CxG_Portal/771fe5d8-a50d-4...          128\n",
       "...                                                 ...          ...\n",
       "5771  csv/Parotid_Gland_CxG_Portal/4676160f-b0f6-4de...          118\n",
       "5772  csv/Parotid_Gland_CxG_Portal/bd13c169-af97-4d8...         9437\n",
       "5773  csv/Parotid_Gland_CxG_Portal/13c0b826-87e9-4c8...         1270\n",
       "5774  csv/Parotid_Gland_CxG_Portal/7995d395-6682-4f7...         3628\n",
       "5775  csv/Parotid_Gland_CxG_Portal/7995d395-6682-4f7...         6065\n",
       "\n",
       "[5776 rows x 2 columns]"
      ]
     },
     "execution_count": 17,
     "metadata": {},
     "output_type": "execute_result"
    }
   ],
   "source": [
    "dataset_info"
   ]
  },
  {
   "cell_type": "code",
   "execution_count": 19,
   "metadata": {},
   "outputs": [],
   "source": [
    "dataset_info['source'] = dataset_info.apply(lambda row: row['dataset_path'].split(\"/\")[1].split(\"_\")[-2], axis=1)"
   ]
  },
  {
   "cell_type": "code",
   "execution_count": 32,
   "metadata": {},
   "outputs": [],
   "source": [
    "dataset_info = dataset_info[dataset_info['source'].isin(['CxG','GTEx','HuBMAP'])]"
   ]
  },
  {
   "cell_type": "code",
   "execution_count": 34,
   "metadata": {},
   "outputs": [
    {
     "data": {
      "text/html": [
       "<div>\n",
       "<style scoped>\n",
       "    .dataframe tbody tr th:only-of-type {\n",
       "        vertical-align: middle;\n",
       "    }\n",
       "\n",
       "    .dataframe tbody tr th {\n",
       "        vertical-align: top;\n",
       "    }\n",
       "\n",
       "    .dataframe thead th {\n",
       "        text-align: right;\n",
       "    }\n",
       "</style>\n",
       "<table border=\"1\" class=\"dataframe\">\n",
       "  <thead>\n",
       "    <tr style=\"text-align: right;\">\n",
       "      <th></th>\n",
       "      <th>dataset_path</th>\n",
       "      <th>cell_counts</th>\n",
       "      <th>source</th>\n",
       "    </tr>\n",
       "  </thead>\n",
       "  <tbody>\n",
       "    <tr>\n",
       "      <th>0</th>\n",
       "      <td>csv/Small_Intestine_CxG_Portal/cf18e897-e8b2-4...</td>\n",
       "      <td>1101</td>\n",
       "      <td>CxG</td>\n",
       "    </tr>\n",
       "    <tr>\n",
       "      <th>1</th>\n",
       "      <td>csv/Small_Intestine_CxG_Portal/e09e81de-a537-4...</td>\n",
       "      <td>6294</td>\n",
       "      <td>CxG</td>\n",
       "    </tr>\n",
       "    <tr>\n",
       "      <th>2</th>\n",
       "      <td>csv/Small_Intestine_CxG_Portal/7ae94573-bd9b-4...</td>\n",
       "      <td>1933</td>\n",
       "      <td>CxG</td>\n",
       "    </tr>\n",
       "    <tr>\n",
       "      <th>3</th>\n",
       "      <td>csv/Small_Intestine_CxG_Portal/2993616d-12b8-4...</td>\n",
       "      <td>1199</td>\n",
       "      <td>CxG</td>\n",
       "    </tr>\n",
       "    <tr>\n",
       "      <th>4</th>\n",
       "      <td>csv/Small_Intestine_CxG_Portal/771fe5d8-a50d-4...</td>\n",
       "      <td>128</td>\n",
       "      <td>CxG</td>\n",
       "    </tr>\n",
       "    <tr>\n",
       "      <th>...</th>\n",
       "      <td>...</td>\n",
       "      <td>...</td>\n",
       "      <td>...</td>\n",
       "    </tr>\n",
       "    <tr>\n",
       "      <th>5771</th>\n",
       "      <td>csv/Parotid_Gland_CxG_Portal/4676160f-b0f6-4de...</td>\n",
       "      <td>118</td>\n",
       "      <td>CxG</td>\n",
       "    </tr>\n",
       "    <tr>\n",
       "      <th>5772</th>\n",
       "      <td>csv/Parotid_Gland_CxG_Portal/bd13c169-af97-4d8...</td>\n",
       "      <td>9437</td>\n",
       "      <td>CxG</td>\n",
       "    </tr>\n",
       "    <tr>\n",
       "      <th>5773</th>\n",
       "      <td>csv/Parotid_Gland_CxG_Portal/13c0b826-87e9-4c8...</td>\n",
       "      <td>1270</td>\n",
       "      <td>CxG</td>\n",
       "    </tr>\n",
       "    <tr>\n",
       "      <th>5774</th>\n",
       "      <td>csv/Parotid_Gland_CxG_Portal/7995d395-6682-4f7...</td>\n",
       "      <td>3628</td>\n",
       "      <td>CxG</td>\n",
       "    </tr>\n",
       "    <tr>\n",
       "      <th>5775</th>\n",
       "      <td>csv/Parotid_Gland_CxG_Portal/7995d395-6682-4f7...</td>\n",
       "      <td>6065</td>\n",
       "      <td>CxG</td>\n",
       "    </tr>\n",
       "  </tbody>\n",
       "</table>\n",
       "<p>5391 rows × 3 columns</p>\n",
       "</div>"
      ],
      "text/plain": [
       "                                           dataset_path  cell_counts source\n",
       "0     csv/Small_Intestine_CxG_Portal/cf18e897-e8b2-4...         1101    CxG\n",
       "1     csv/Small_Intestine_CxG_Portal/e09e81de-a537-4...         6294    CxG\n",
       "2     csv/Small_Intestine_CxG_Portal/7ae94573-bd9b-4...         1933    CxG\n",
       "3     csv/Small_Intestine_CxG_Portal/2993616d-12b8-4...         1199    CxG\n",
       "4     csv/Small_Intestine_CxG_Portal/771fe5d8-a50d-4...          128    CxG\n",
       "...                                                 ...          ...    ...\n",
       "5771  csv/Parotid_Gland_CxG_Portal/4676160f-b0f6-4de...          118    CxG\n",
       "5772  csv/Parotid_Gland_CxG_Portal/bd13c169-af97-4d8...         9437    CxG\n",
       "5773  csv/Parotid_Gland_CxG_Portal/13c0b826-87e9-4c8...         1270    CxG\n",
       "5774  csv/Parotid_Gland_CxG_Portal/7995d395-6682-4f7...         3628    CxG\n",
       "5775  csv/Parotid_Gland_CxG_Portal/7995d395-6682-4f7...         6065    CxG\n",
       "\n",
       "[5391 rows x 3 columns]"
      ]
     },
     "execution_count": 34,
     "metadata": {},
     "output_type": "execute_result"
    }
   ],
   "source": [
    "dataset_info"
   ]
  },
  {
   "cell_type": "code",
   "execution_count": 35,
   "metadata": {},
   "outputs": [],
   "source": [
    "possible_duplicates = dataset_info.groupby('cell_counts').agg(list)"
   ]
  },
  {
   "cell_type": "code",
   "execution_count": 41,
   "metadata": {},
   "outputs": [],
   "source": [
    "possible_duplicates['keep'] = possible_duplicates.apply(lambda row: False if len(set(row['source'])) == 1 else True, axis=1)"
   ]
  },
  {
   "cell_type": "code",
   "execution_count": 45,
   "metadata": {},
   "outputs": [],
   "source": [
    "possible_duplicates = possible_duplicates[possible_duplicates['keep']].drop('keep',axis=1).reset_index()"
   ]
  },
  {
   "cell_type": "code",
   "execution_count": 48,
   "metadata": {},
   "outputs": [
    {
     "data": {
      "text/html": [
       "<div>\n",
       "<style scoped>\n",
       "    .dataframe tbody tr th:only-of-type {\n",
       "        vertical-align: middle;\n",
       "    }\n",
       "\n",
       "    .dataframe tbody tr th {\n",
       "        vertical-align: top;\n",
       "    }\n",
       "\n",
       "    .dataframe thead th {\n",
       "        text-align: right;\n",
       "    }\n",
       "</style>\n",
       "<table border=\"1\" class=\"dataframe\">\n",
       "  <thead>\n",
       "    <tr style=\"text-align: right;\">\n",
       "      <th></th>\n",
       "      <th>cell_counts</th>\n",
       "      <th>dataset_path</th>\n",
       "      <th>source</th>\n",
       "    </tr>\n",
       "  </thead>\n",
       "  <tbody>\n",
       "    <tr>\n",
       "      <th>0</th>\n",
       "      <td>40</td>\n",
       "      <td>[csv/Skin_GTEx_Portal/GTEX-1CAMR-5015.csv, csv...</td>\n",
       "      <td>[GTEx, CxG, CxG, CxG, CxG]</td>\n",
       "    </tr>\n",
       "    <tr>\n",
       "      <th>1</th>\n",
       "      <td>208</td>\n",
       "      <td>[csv/Heart_CxG_Portal/45dd32d7-00ff-4a1a-9c48-...</td>\n",
       "      <td>[CxG, HuBMAP, CxG]</td>\n",
       "    </tr>\n",
       "    <tr>\n",
       "      <th>2</th>\n",
       "      <td>326</td>\n",
       "      <td>[csv/Skin_GTEx_Portal/GTEX-15EOM-5003.csv, csv...</td>\n",
       "      <td>[GTEx, CxG, CxG, CxG, CxG]</td>\n",
       "    </tr>\n",
       "    <tr>\n",
       "      <th>3</th>\n",
       "      <td>501</td>\n",
       "      <td>[csv/Kidney_CxG_Portal/cd9f2c40-6470-4ef6-98b0...</td>\n",
       "      <td>[CxG, CxG, HuBMAP]</td>\n",
       "    </tr>\n",
       "    <tr>\n",
       "      <th>4</th>\n",
       "      <td>1456</td>\n",
       "      <td>[csv/Breast_GTEx_Portal/GTEX-1MCC2-5013.csv, c...</td>\n",
       "      <td>[GTEx, CxG, CxG]</td>\n",
       "    </tr>\n",
       "    <tr>\n",
       "      <th>5</th>\n",
       "      <td>1499</td>\n",
       "      <td>[csv/Small_Intestine_CxG_Portal/f909b36b-fb4e-...</td>\n",
       "      <td>[CxG, HuBMAP, CxG]</td>\n",
       "    </tr>\n",
       "    <tr>\n",
       "      <th>6</th>\n",
       "      <td>1500</td>\n",
       "      <td>[csv/Eye_CxG_Portal/890b91e0-e613-4de6-acab-96...</td>\n",
       "      <td>[CxG, CxG, HuBMAP, CxG, CxG]</td>\n",
       "    </tr>\n",
       "    <tr>\n",
       "      <th>7</th>\n",
       "      <td>1502</td>\n",
       "      <td>[csv/Small_Intestine_CxG_Portal/1e7713ad-b371-...</td>\n",
       "      <td>[CxG, GTEx, CxG]</td>\n",
       "    </tr>\n",
       "    <tr>\n",
       "      <th>8</th>\n",
       "      <td>3183</td>\n",
       "      <td>[csv/Heart_CxG_Portal/a9ccfc4c-14c0-40ce-8c07-...</td>\n",
       "      <td>[CxG, HuBMAP]</td>\n",
       "    </tr>\n",
       "    <tr>\n",
       "      <th>9</th>\n",
       "      <td>3999</td>\n",
       "      <td>[csv/Large_Intestine_CxG_Portal/2993616d-12b8-...</td>\n",
       "      <td>[CxG, HuBMAP]</td>\n",
       "    </tr>\n",
       "    <tr>\n",
       "      <th>10</th>\n",
       "      <td>4961</td>\n",
       "      <td>[csv/Skin_GTEx_Portal/GTEX-1HSMQ-5007.csv, csv...</td>\n",
       "      <td>[GTEx, CxG]</td>\n",
       "    </tr>\n",
       "    <tr>\n",
       "      <th>11</th>\n",
       "      <td>5996</td>\n",
       "      <td>[csv/Liver_CxG_Portal/af4ff68b-1dfc-475f-aa93-...</td>\n",
       "      <td>[CxG, HuBMAP]</td>\n",
       "    </tr>\n",
       "    <tr>\n",
       "      <th>12</th>\n",
       "      <td>5998</td>\n",
       "      <td>[csv/Kidney_CxG_Portal/16eccda8-805c-4e06-b7b6...</td>\n",
       "      <td>[CxG, HuBMAP]</td>\n",
       "    </tr>\n",
       "    <tr>\n",
       "      <th>13</th>\n",
       "      <td>6285</td>\n",
       "      <td>[csv/Prostate_GTEx_Portal/GTEX-12BJ1-5007.csv,...</td>\n",
       "      <td>[GTEx, CxG, CxG]</td>\n",
       "    </tr>\n",
       "    <tr>\n",
       "      <th>14</th>\n",
       "      <td>8111</td>\n",
       "      <td>[csv/Liver_CxG_Portal/6811d040-4e33-4592-80a7-...</td>\n",
       "      <td>[CxG, HuBMAP]</td>\n",
       "    </tr>\n",
       "    <tr>\n",
       "      <th>15</th>\n",
       "      <td>10347</td>\n",
       "      <td>[csv/Prostate_GTEx_Portal/GTEX-1HSMQ-5014.csv,...</td>\n",
       "      <td>[GTEx, CxG]</td>\n",
       "    </tr>\n",
       "    <tr>\n",
       "      <th>16</th>\n",
       "      <td>12927</td>\n",
       "      <td>[csv/Prostate_GTEx_Portal/GTEX-1I1GU-5006.csv,...</td>\n",
       "      <td>[GTEx, CxG]</td>\n",
       "    </tr>\n",
       "  </tbody>\n",
       "</table>\n",
       "</div>"
      ],
      "text/plain": [
       "    cell_counts                                       dataset_path  \\\n",
       "0            40  [csv/Skin_GTEx_Portal/GTEX-1CAMR-5015.csv, csv...   \n",
       "1           208  [csv/Heart_CxG_Portal/45dd32d7-00ff-4a1a-9c48-...   \n",
       "2           326  [csv/Skin_GTEx_Portal/GTEX-15EOM-5003.csv, csv...   \n",
       "3           501  [csv/Kidney_CxG_Portal/cd9f2c40-6470-4ef6-98b0...   \n",
       "4          1456  [csv/Breast_GTEx_Portal/GTEX-1MCC2-5013.csv, c...   \n",
       "5          1499  [csv/Small_Intestine_CxG_Portal/f909b36b-fb4e-...   \n",
       "6          1500  [csv/Eye_CxG_Portal/890b91e0-e613-4de6-acab-96...   \n",
       "7          1502  [csv/Small_Intestine_CxG_Portal/1e7713ad-b371-...   \n",
       "8          3183  [csv/Heart_CxG_Portal/a9ccfc4c-14c0-40ce-8c07-...   \n",
       "9          3999  [csv/Large_Intestine_CxG_Portal/2993616d-12b8-...   \n",
       "10         4961  [csv/Skin_GTEx_Portal/GTEX-1HSMQ-5007.csv, csv...   \n",
       "11         5996  [csv/Liver_CxG_Portal/af4ff68b-1dfc-475f-aa93-...   \n",
       "12         5998  [csv/Kidney_CxG_Portal/16eccda8-805c-4e06-b7b6...   \n",
       "13         6285  [csv/Prostate_GTEx_Portal/GTEX-12BJ1-5007.csv,...   \n",
       "14         8111  [csv/Liver_CxG_Portal/6811d040-4e33-4592-80a7-...   \n",
       "15        10347  [csv/Prostate_GTEx_Portal/GTEX-1HSMQ-5014.csv,...   \n",
       "16        12927  [csv/Prostate_GTEx_Portal/GTEX-1I1GU-5006.csv,...   \n",
       "\n",
       "                          source  \n",
       "0     [GTEx, CxG, CxG, CxG, CxG]  \n",
       "1             [CxG, HuBMAP, CxG]  \n",
       "2     [GTEx, CxG, CxG, CxG, CxG]  \n",
       "3             [CxG, CxG, HuBMAP]  \n",
       "4               [GTEx, CxG, CxG]  \n",
       "5             [CxG, HuBMAP, CxG]  \n",
       "6   [CxG, CxG, HuBMAP, CxG, CxG]  \n",
       "7               [CxG, GTEx, CxG]  \n",
       "8                  [CxG, HuBMAP]  \n",
       "9                  [CxG, HuBMAP]  \n",
       "10                   [GTEx, CxG]  \n",
       "11                 [CxG, HuBMAP]  \n",
       "12                 [CxG, HuBMAP]  \n",
       "13              [GTEx, CxG, CxG]  \n",
       "14                 [CxG, HuBMAP]  \n",
       "15                   [GTEx, CxG]  \n",
       "16                   [GTEx, CxG]  "
      ]
     },
     "execution_count": 48,
     "metadata": {},
     "output_type": "execute_result"
    }
   ],
   "source": [
    "possible_duplicates"
   ]
  },
  {
   "cell_type": "code",
   "execution_count": 47,
   "metadata": {},
   "outputs": [],
   "source": [
    "possible_duplicates.to_csv('possible_duplicates.csv')"
   ]
  }
 ],
 "metadata": {
  "interpreter": {
   "hash": "aee8b7b246df8f9039afb4144a1f6fd8d2ca17a180786b69acc140d282b71a49"
  },
  "kernelspec": {
   "display_name": "Python 3.11.0 64-bit",
   "language": "python",
   "name": "python3"
  },
  "language_info": {
   "codemirror_mode": {
    "name": "ipython",
    "version": 3
   },
   "file_extension": ".py",
   "mimetype": "text/x-python",
   "name": "python",
   "nbconvert_exporter": "python",
   "pygments_lexer": "ipython3",
   "version": "3.11.0"
  },
  "orig_nbformat": 4
 },
 "nbformat": 4,
 "nbformat_minor": 2
}
